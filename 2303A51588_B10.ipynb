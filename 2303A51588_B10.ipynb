{
  "nbformat": 4,
  "nbformat_minor": 0,
  "metadata": {
    "colab": {
      "provenance": [],
      "include_colab_link": true
    },
    "kernelspec": {
      "name": "python3",
      "display_name": "Python 3"
    },
    "language_info": {
      "name": "python"
    }
  },
  "cells": [
    {
      "cell_type": "markdown",
      "metadata": {
        "id": "view-in-github",
        "colab_type": "text"
      },
      "source": [
        "<a href=\"https://colab.research.google.com/github/Harshitha1588/AIML-2025/blob/main/2303A51588_B10.ipynb\" target=\"_parent\"><img src=\"https://colab.research.google.com/assets/colab-badge.svg\" alt=\"Open In Colab\"/></a>"
      ]
    },
    {
      "cell_type": "markdown",
      "source": [
        "             Data Set-18\n",
        "Prediction of Gender by Names given to the new born babies.\n",
        "Q1. Identify the Top-10 popular names given to babies\n",
        "Q2.Find the Max and Min count of babies with similar names.\n",
        "Q3. Name the gender which has acquired the most names among the babies\n",
        "Q4. Identify the Top-5 probabilities of occurrence of Male and Female babies\n",
        "Q5.Name the Top-5 names with highest probabilities.\n",
        "Q6.Apply either Classification or Clustering or Regression Model and evaluate the accuracy,error metrics of the model."
      ],
      "metadata": {
        "id": "ntRf-nf-3uCX"
      }
    },
    {
      "cell_type": "code",
      "source": [
        "import pandas as pd\n",
        "import numpy as np\n",
        "from sklearn.model_selection import train_test_split\n",
        "from sklearn.ensemble import RandomForestClassifier\n",
        "from sklearn.metrics import accuracy_score\n",
        "data = pd.read_csv('/content/gender+by+name.zip')\n"
      ],
      "metadata": {
        "id": "2mvdyR3l9BQU"
      },
      "execution_count": 40,
      "outputs": []
    },
    {
      "cell_type": "code",
      "source": [
        "popular_names = data.groupby('Name')['Count'].sum().sort_values(ascending=False).head(10)\n",
        "print(\"Top 10 Popular Names:\")\n",
        "print(popular_names)\n"
      ],
      "metadata": {
        "colab": {
          "base_uri": "https://localhost:8080/"
        },
        "id": "2t8CPzFM9rhm",
        "outputId": "039aee8c-016a-47a5-e78c-da0cbfec69a2"
      },
      "execution_count": 41,
      "outputs": [
        {
          "output_type": "stream",
          "name": "stdout",
          "text": [
            "Top 10 Popular Names:\n",
            "Name\n",
            "James      5328370\n",
            "John       5282978\n",
            "Robert     4990971\n",
            "Michael    4602810\n",
            "William    4242917\n",
            "Mary       4184969\n",
            "David      3801028\n",
            "Joseph     2707061\n",
            "Richard    2647959\n",
            "Charles    2446151\n",
            "Name: Count, dtype: int64\n"
          ]
        }
      ]
    },
    {
      "cell_type": "code",
      "source": [
        "name_counts = data.groupby('Name')['Count'].sum()\n",
        "max_count = name_counts.max()\n",
        "min_count = name_counts.min()\n",
        "print(f\"Maximum Count: {max_count}\")\n",
        "print(f\"Minimum Count: {min_count}\")\n"
      ],
      "metadata": {
        "id": "h_47-r9n2tUT",
        "outputId": "d672b293-6336-4b7f-bc66-23af96399148",
        "colab": {
          "base_uri": "https://localhost:8080/"
        }
      },
      "execution_count": 42,
      "outputs": [
        {
          "output_type": "stream",
          "name": "stdout",
          "text": [
            "Maximum Count: 5328370\n",
            "Minimum Count: 1\n"
          ]
        }
      ]
    },
    {
      "cell_type": "code",
      "source": [
        "gender_counts = data.groupby('Gender')['Name'].count()\n",
        "most_gender = gender_counts.idxmax()\n",
        "print(f\"Gender with Most Names: {most_gender}\")\n"
      ],
      "metadata": {
        "colab": {
          "base_uri": "https://localhost:8080/"
        },
        "id": "5hgs8l60-ptQ",
        "outputId": "36dabfb5-89ee-44b2-cbdc-23a1142e2dca"
      },
      "execution_count": 43,
      "outputs": [
        {
          "output_type": "stream",
          "name": "stdout",
          "text": [
            "Gender with Most Names: F\n"
          ]
        }
      ]
    },
    {
      "cell_type": "code",
      "source": [
        "gender_probabilities = data['Gender'].value_counts(normalize=True)\n",
        "print(\"Top Gender Probabilities:\")\n",
        "print(gender_probabilities.head(5))"
      ],
      "metadata": {
        "colab": {
          "base_uri": "https://localhost:8080/"
        },
        "id": "9NdIUVtt_MNk",
        "outputId": "d604175f-42e7-4c88-e258-b90d801731d5"
      },
      "execution_count": 44,
      "outputs": [
        {
          "output_type": "stream",
          "name": "stdout",
          "text": [
            "Top Gender Probabilities:\n",
            "Gender\n",
            "F    0.609422\n",
            "M    0.390578\n",
            "Name: proportion, dtype: float64\n"
          ]
        }
      ]
    },
    {
      "cell_type": "code",
      "source": [
        "data['Name_Probability'] = data['Count'] / data['Count'].sum()\n",
        "top_5_probable_names = data.groupby('Name')['Name_Probability'].sum().sort_values(ascending=False).head(5)\n",
        "print(\"Top 5 Names with Highest Probabilities:\")\n",
        "print(top_5_probable_names)\n",
        "\n"
      ],
      "metadata": {
        "colab": {
          "base_uri": "https://localhost:8080/"
        },
        "id": "Ipb3h4v7_Z1N",
        "outputId": "91f3a4ad-1ad5-4692-f0e7-b5dc9a7c3829"
      },
      "execution_count": 45,
      "outputs": [
        {
          "output_type": "stream",
          "name": "stdout",
          "text": [
            "Top 5 Names with Highest Probabilities:\n",
            "Name\n",
            "James      0.014582\n",
            "John       0.014458\n",
            "Robert     0.013659\n",
            "Michael    0.012597\n",
            "William    0.011612\n",
            "Name: Name_Probability, dtype: float64\n"
          ]
        }
      ]
    },
    {
      "cell_type": "code",
      "source": [
        "import pandas as pd\n",
        "from sklearn.model_selection import train_test_split\n",
        "from sklearn.ensemble import RandomForestClassifier\n",
        "from sklearn.metrics import accuracy_score\n",
        "from sklearn.preprocessing import LabelEncoder\n",
        "data = pd.read_csv('/content/gender+by+name.zip')\n",
        "required_columns = ['Name', 'Gender', 'Count']\n",
        "if not all(col in data.columns for col in required_columns):\n",
        "    raise ValueError(\"Dataset is missing required columns.\")\n",
        "data['Name_Length'] = data['Name'].apply(len)\n",
        "data['Vowel_Count'] = data['Name'].apply(lambda x: sum([1 for char in x.lower() if char in 'aeiou']))\n",
        "le = LabelEncoder()\n",
        "data['Gender_Encoded'] = le.fit_transform(data['Gender'])\n",
        "X = data[['Name_Length', 'Vowel_Count']]\n",
        "y = data['Gender_Encoded']\n",
        "X_train, X_test, y_train, y_test = train_test_split(X, y, test_size=0.2, random_state=42)\n",
        "model = RandomForestClassifier(random_state=42)\n",
        "model.fit(X_train, y_train)\n",
        "y_pred = model.predict(X_test)\n",
        "accuracy = accuracy_score(y_test, y_pred)\n",
        "print(f\"Classification Accuracy: {accuracy}\")"
      ],
      "metadata": {
        "id": "MXLilxy37oSC",
        "outputId": "114f738d-18eb-40d5-bff6-64cfc12b20c2",
        "colab": {
          "base_uri": "https://localhost:8080/"
        }
      },
      "execution_count": 46,
      "outputs": [
        {
          "output_type": "stream",
          "name": "stdout",
          "text": [
            "Classification Accuracy: 0.6351259591226998\n"
          ]
        }
      ]
    }
  ]
}