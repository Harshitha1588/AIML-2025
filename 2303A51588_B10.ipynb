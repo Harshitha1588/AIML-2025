{
  "nbformat": 4,
  "nbformat_minor": 0,
  "metadata": {
    "colab": {
      "provenance": [],
      "authorship_tag": "ABX9TyOmkiPV0K2/lUV0OB+KaW8J",
      "include_colab_link": true
    },
    "kernelspec": {
      "name": "python3",
      "display_name": "Python 3"
    },
    "language_info": {
      "name": "python"
    }
  },
  "cells": [
    {
      "cell_type": "markdown",
      "metadata": {
        "id": "view-in-github",
        "colab_type": "text"
      },
      "source": [
        "<a href=\"https://colab.research.google.com/github/Harshitha1588/AIML-2025/blob/main/2303A51588_B10.ipynb\" target=\"_parent\"><img src=\"https://colab.research.google.com/assets/colab-badge.svg\" alt=\"Open In Colab\"/></a>"
      ]
    },
    {
      "cell_type": "markdown",
      "source": [
        "             Data Set-18\n",
        "Prediction of Gender by Names given to the new born babies.\n",
        "Q1. Identify the Top-10 popular names given to babies\n",
        "Q2.Find the Max and Min count of babies with similar names.\n",
        "Q3. Name the gender which has acquired the most names among the babies\n",
        "Q4. Identify the Top-5 probabilities of occurrence of Male and Female babies\n",
        "Q5.Name the Top-5 names with highest probabilities.\n",
        "Q6.Apply either Classification or Clustering or Regression Model and evaluate the accuracy,error metrics of the model."
      ],
      "metadata": {
        "id": "ntRf-nf-3uCX"
      }
    },
    {
      "cell_type": "code",
      "source": [
        "import pandas as pd\n",
        "data = pd.read_csv(\"/gender+by+name.zip\")\n",
        "print(data.head())"
      ],
      "metadata": {
        "colab": {
          "base_uri": "https://localhost:8080/"
        },
        "id": "2mvdyR3l9BQU",
        "outputId": "9bd1977d-79a8-4dbe-d2aa-0a362c6179c1"
      },
      "execution_count": 30,
      "outputs": [
        {
          "output_type": "stream",
          "name": "stdout",
          "text": [
            "      Name Gender    Count  Probability\n",
            "0    James      M  5304407     0.014517\n",
            "1     John      M  5260831     0.014398\n",
            "2   Robert      M  4970386     0.013603\n",
            "3  Michael      M  4579950     0.012534\n",
            "4  William      M  4226608     0.011567\n"
          ]
        }
      ]
    },
    {
      "cell_type": "code",
      "source": [
        "import pandas as pd\n",
        "data = pd.read_csv(\"/gender+by+name.zip\")\n",
        "print(data.columns)\n",
        "top_10_names = data['Name'].value_counts().head(10)\n",
        "print(\"Top-10 popular names:\")\n",
        "print(top_10_names)"
      ],
      "metadata": {
        "colab": {
          "base_uri": "https://localhost:8080/"
        },
        "id": "2t8CPzFM9rhm",
        "outputId": "cef0a349-cefe-4510-b514-aa8e47decbd3"
      },
      "execution_count": 31,
      "outputs": [
        {
          "output_type": "stream",
          "name": "stdout",
          "text": [
            "Index(['Name', 'Gender', 'Count', 'Probability'], dtype='object')\n",
            "Top-10 popular names:\n",
            "Name\n",
            "James         2\n",
            "Doni          2\n",
            "Audley        2\n",
            "Rhodes        2\n",
            "Moran         2\n",
            "Jannine       2\n",
            "Nedal         2\n",
            "Darley        2\n",
            "Pari          2\n",
            "Pasqualina    2\n",
            "Name: count, dtype: int64\n"
          ]
        }
      ]
    },
    {
      "cell_type": "code",
      "source": [
        "import pandas as pd\n",
        "data = pd.read_csv(\"/gender+by+name.zip\")\n",
        "if data.empty:\n",
        "    print(\"Error: The DataFrame is empty. Please check your data source.\")\n",
        "elif 'Gender' not in data.columns:\n",
        "    print(\"Error: The DataFrame does not contain a 'Gender' column.\")\n",
        "else:\n",
        "    gender_counts = data['Gender'].value_counts()\n",
        "    if gender_counts.empty:\n",
        "        print(\"Error: There are no gender values in the data.\")\n",
        "    else:\n",
        "        most_names_gender = gender_counts.idxmax()\n",
        "        print(f\"Gender with most names: {most_names_gender}\")"
      ],
      "metadata": {
        "colab": {
          "base_uri": "https://localhost:8080/"
        },
        "id": "5hgs8l60-ptQ",
        "outputId": "f9c70770-5208-4c8c-b641-08f0a1416b4f"
      },
      "execution_count": 32,
      "outputs": [
        {
          "output_type": "stream",
          "name": "stdout",
          "text": [
            "Gender with most names: F\n"
          ]
        }
      ]
    },
    {
      "cell_type": "code",
      "source": [
        "gender_probabilities = data['Gender'].value_counts(normalize=True).head(5)\n",
        "print(\"Top-5 probabilities of male and female occurrences:\")\n",
        "print(gender_probabilities)"
      ],
      "metadata": {
        "colab": {
          "base_uri": "https://localhost:8080/"
        },
        "id": "9NdIUVtt_MNk",
        "outputId": "fff8f143-5028-4ae4-e5c8-678e054c3a6b"
      },
      "execution_count": 33,
      "outputs": [
        {
          "output_type": "stream",
          "name": "stdout",
          "text": [
            "Top-5 probabilities of male and female occurrences:\n",
            "Gender\n",
            "F    0.609422\n",
            "M    0.390578\n",
            "Name: proportion, dtype: float64\n"
          ]
        }
      ]
    },
    {
      "cell_type": "code",
      "source": [
        "# Get the top 5 names with the highest frequencies\n",
        "top_5_probabilities = (data['Name'].value_counts(normalize=True).head(5))\n",
        "print(\"Top-5 names with highest probabilities:\")\n",
        "print(top_5_probabilities)"
      ],
      "metadata": {
        "colab": {
          "base_uri": "https://localhost:8080/"
        },
        "id": "Ipb3h4v7_Z1N",
        "outputId": "a0b20727-11e0-4d9d-d68a-9379342f0aec"
      },
      "execution_count": 34,
      "outputs": [
        {
          "output_type": "stream",
          "name": "stdout",
          "text": [
            "Top-5 names with highest probabilities:\n",
            "Name\n",
            "James     0.000014\n",
            "Doni      0.000014\n",
            "Audley    0.000014\n",
            "Rhodes    0.000014\n",
            "Moran     0.000014\n",
            "Name: proportion, dtype: float64\n"
          ]
        }
      ]
    },
    {
      "cell_type": "code",
      "source": [
        "from sklearn.model_selection import train_test_split\n",
        "from sklearn.feature_extraction.text import TfidfVectorizer\n",
        "from sklearn.linear_model import LogisticRegression\n",
        "from sklearn.metrics import accuracy_score, classification_report\n",
        "vectorizer = TfidfVectorizer()\n",
        "X = vectorizer.fit_transform(data['Name'])\n",
        "y = data['Gender'].map({'Male': 0, 'Female': 1})\n",
        "X_train, X_test, y_train, y_test = train_test_split(X, y, test_size=0.2, random_state=42)"
      ],
      "metadata": {
        "id": "hE3xjDbsAKEu"
      },
      "execution_count": 35,
      "outputs": []
    }
  ]
}